{
 "cells": [
  {
   "cell_type": "code",
   "execution_count": 3,
   "metadata": {},
   "outputs": [
    {
     "name": "stdout",
     "output_type": "stream",
     "text": [
      "Populating the interactive namespace from numpy and matplotlib\n"
     ]
    }
   ],
   "source": [
    "%pylab inline\n",
    "\n",
    "import pandas as pd\n",
    "import seaborn as sns\n",
    "from pathlib import Path\n",
    "from lxml import etree\n",
    "from time import strptime\n"
   ]
  },
  {
   "cell_type": "code",
   "execution_count": 24,
   "metadata": {},
   "outputs": [],
   "source": [
    "drugtrials = pd.read_json('drugtrials.json')"
   ]
  },
  {
   "cell_type": "code",
   "execution_count": 25,
   "metadata": {},
   "outputs": [
    {
     "name": "stdout",
     "output_type": "stream",
     "text": [
      "<class 'pandas.core.frame.DataFrame'>\n",
      "Index: 110693 entries, NCT00000102 to NCT03267836\n",
      "Data columns (total 11 columns):\n",
      "cond_mesh             110693 non-null object\n",
      "conditions            110693 non-null object\n",
      "drugs                 110693 non-null object\n",
      "firstreceived_date    110693 non-null int64\n",
      "int_mesh              110693 non-null object\n",
      "nconditions           110693 non-null int64\n",
      "ndrugs                110693 non-null int64\n",
      "ninterventions        110693 non-null int64\n",
      "overall_status        110693 non-null object\n",
      "phase                 99076 non-null object\n",
      "study_type            110693 non-null object\n",
      "dtypes: int64(4), object(7)\n",
      "memory usage: 10.1+ MB\n"
     ]
    }
   ],
   "source": [
    "drugtrials.info()"
   ]
  },
  {
   "cell_type": "code",
   "execution_count": 45,
   "metadata": {},
   "outputs": [],
   "source": [
    "def unique_terms(series)  :\n",
    "    unique = set()\n",
    "    for things in series :\n",
    "        for thing in things : \n",
    "            unique.add(thing)\n",
    "    return unique\n",
    "\n",
    "def nunique_terms(series) :\n",
    "    return len(unique_terms(series))"
   ]
  },
  {
   "cell_type": "code",
   "execution_count": 38,
   "metadata": {},
   "outputs": [
    {
     "name": "stdout",
     "output_type": "stream",
     "text": [
      "There are 3053 unique condition MeSH terms attempted by 2915 unique drug MeSH terms in total.\n"
     ]
    }
   ],
   "source": [
    "nconds = len(unique_terms(drugtrials.cond_mesh))\n",
    "ndrugs = len(unique_terms(drugtrials.int_mesh))\n",
    "\n",
    "print ('There are {} unique condition MeSH terms attempted by {} unique drug MeSH terms in total.'.format(nconds, ndrugs))"
   ]
  },
  {
   "cell_type": "code",
   "execution_count": 67,
   "metadata": {},
   "outputs": [
    {
     "data": {
      "image/png": "[encoded data removed]",
      "text/plain": [
       "<matplotlib.figure.Figure at 0x7fa6a0d1f550>"
      ]
     },
     "metadata": {},
     "output_type": "display_data"
    }
   ],
   "source": [
    "trials = drugtrials.groupby('firstreceived_date')\n",
    "a = trials.cond_mesh.apply(nunique_terms)\n",
    "b = trials.int_mesh.apply(nunique_terms)\n",
    "data = pd.DataFrame([a,b]).T.plot()\n",
    "ylabel('# of unique terms');"
   ]
  },
  {
   "cell_type": "markdown",
   "metadata": {},
   "source": [
    "We are pulling top 10 conditions from each year and pool them together, making a set of 'popular' conditions."
   ]
  },
  {
   "cell_type": "code",
   "execution_count": 88,
   "metadata": {},
   "outputs": [],
   "source": [
    "from collections import Counter\n",
    "\n",
    "def  top_terms(series, n=10) : \n",
    "    counts= Counter()\n",
    "    \n",
    "    for terms in series :\n",
    "        for t in terms :\n",
    "            counts[t]+=1\n",
    "\n",
    "    conds = sorted(counts, key=counts.get, reverse=True)\n",
    "    \n",
    "    return conds[:n]"
   ]
  },
  {
   "cell_type": "code",
   "execution_count": 94,
   "metadata": {},
   "outputs": [
    {
     "data": {
      "text/plain": [
       "firstreceived_date\n",
       "1999    [HIV Infections, Infection, Acquired Immunodef...\n",
       "2000    [Leukemia, Lymphoma, HIV Infections, Syndrome,...\n",
       "2001    [HIV Infections, Lymphoma, Breast Neoplasms, L...\n",
       "2002    [Breast Neoplasms, Lung Neoplasms, Leukemia, L...\n",
       "2003    [Lymphoma, Lung Neoplasms, Breast Neoplasms, L...\n",
       "2004    [Breast Neoplasms, Leukemia, Lung Neoplasms, C...\n",
       "2005    [Breast Neoplasms, Disease, HIV Infections, Di...\n",
       "2006    [Diabetes Mellitus, Leukemia, Breast Neoplasms...\n",
       "2007    [Diabetes Mellitus, Breast Neoplasms, Diabetes...\n",
       "2008    [Diabetes Mellitus, Diabetes Mellitus, Type 2,...\n",
       "2009    [Diabetes Mellitus, Diabetes Mellitus, Type 2,...\n",
       "2010    [Diabetes Mellitus, Diabetes Mellitus, Type 2,...\n",
       "2011    [Diabetes Mellitus, Diabetes Mellitus, Type 2,...\n",
       "2012    [Diabetes Mellitus, Diabetes Mellitus, Type 2,...\n",
       "2013    [Diabetes Mellitus, Diabetes Mellitus, Type 2,...\n",
       "2014    [Diabetes Mellitus, Syndrome, Carcinoma, Breas...\n",
       "2015    [Diabetes Mellitus, Carcinoma, Breast Neoplasm...\n",
       "2016    [Carcinoma, Diabetes Mellitus, Breast Neoplasm...\n",
       "2017    [Carcinoma, Diabetes Mellitus, Breast Neoplasm...\n",
       "Name: cond_mesh, dtype: object"
      ]
     },
     "execution_count": 94,
     "metadata": {},
     "output_type": "execute_result"
    }
   ],
   "source": [
    "trials.cond_mesh.apply(top_terms)"
   ]
  },
  {
   "cell_type": "code",
   "execution_count": 93,
   "metadata": {},
   "outputs": [
    {
     "data": {
      "text/plain": [
       "{'Acquired Immunodeficiency Syndrome',\n",
       " 'Breast Neoplasms',\n",
       " 'Carcinoma',\n",
       " 'Carcinoma, Non-Small-Cell Lung',\n",
       " 'Central Nervous System Neoplasms',\n",
       " 'Colorectal Neoplasms',\n",
       " 'Communicable Diseases',\n",
       " 'Diabetes Mellitus',\n",
       " 'Diabetes Mellitus, Type 2',\n",
       " 'Disease',\n",
       " 'HIV Infections',\n",
       " 'Hepatitis',\n",
       " 'Hepatitis C',\n",
       " 'Hypertension',\n",
       " 'Infection',\n",
       " 'Leukemia',\n",
       " 'Leukemia, Lymphoid',\n",
       " 'Leukemia, Myeloid',\n",
       " 'Lung Neoplasms',\n",
       " 'Lymphoma',\n",
       " 'Lymphoma, Non-Hodgkin',\n",
       " 'Multiple Myeloma',\n",
       " 'Myelodysplastic Syndromes',\n",
       " 'Neoplasms',\n",
       " 'Nervous System Neoplasms',\n",
       " 'Pain, Postoperative',\n",
       " 'Preleukemia',\n",
       " 'Prostatic Neoplasms',\n",
       " 'Sarcoma',\n",
       " 'Schizophrenia',\n",
       " 'Syndrome'}"
      ]
     },
     "execution_count": 93,
     "metadata": {},
     "output_type": "execute_result"
    }
   ],
   "source": [
    "popular_conditions =  unique_terms(trials.cond_mesh.apply(top_terms))\n",
    "popular_conditions"
   ]
  },
  {
   "cell_type": "code",
   "execution_count": 113,
   "metadata": {
    "collapsed": true
   },
   "outputs": [],
   "source": [
    "for condition in popular_conditions : \n",
    "    involved = [ condition in terms for terms in drugtrials.cond_mesh ]\n",
    "    drugtrials[condition]= involved\n",
    "    "
   ]
  },
  {
   "cell_type": "code",
   "execution_count": 149,
   "metadata": {},
   "outputs": [
    {
     "name": "stdout",
     "output_type": "stream",
     "text": [
      "phase\n",
      "Phase 2            2417\n",
      "Phase 3            1802\n",
      "Phase 1            1588\n",
      "Phase 4            1474\n",
      "Phase 1/Phase 2     379\n",
      "Phase 2/Phase 3     208\n",
      "Early Phase 1        52\n",
      "Name: phase, dtype: int64\n",
      "phase\n",
      "Phase 2            2211\n",
      "Phase 1            1911\n",
      "Phase 3            1289\n",
      "Phase 4            1249\n",
      "Phase 1/Phase 2     426\n",
      "Phase 2/Phase 3     200\n",
      "Early Phase 1        48\n",
      "Name: phase, dtype: int64\n",
      "phase\n",
      "Phase 2            2011\n",
      "Phase 1            1714\n",
      "Phase 3            1373\n",
      "Phase 4            1225\n",
      "Phase 1/Phase 2     429\n",
      "Phase 2/Phase 3     189\n",
      "Early Phase 1        45\n",
      "Name: phase, dtype: int64\n",
      "phase\n",
      "Phase 2            1917\n",
      "Phase 1            1796\n",
      "Phase 3            1382\n",
      "Phase 4            1173\n",
      "Phase 1/Phase 2     389\n",
      "Phase 2/Phase 3     161\n",
      "Early Phase 1        49\n",
      "Name: phase, dtype: int64\n",
      "phase\n",
      "Phase 2            2045\n",
      "Phase 1            1725\n",
      "Phase 3            1356\n",
      "Phase 4            1267\n",
      "Phase 1/Phase 2     401\n",
      "Phase 2/Phase 3     201\n",
      "Early Phase 1        76\n",
      "Name: phase, dtype: int64\n",
      "phase\n",
      "Phase 2            1941\n",
      "Phase 1            1613\n",
      "Phase 4            1335\n",
      "Phase 3            1314\n",
      "Phase 1/Phase 2     427\n",
      "Phase 2/Phase 3     186\n",
      "Early Phase 1       117\n",
      "Name: phase, dtype: int64\n",
      "phase\n",
      "Phase 1            2317\n",
      "Phase 2            2063\n",
      "Phase 4            1528\n",
      "Phase 3            1378\n",
      "Phase 1/Phase 2     485\n",
      "Phase 2/Phase 3     247\n",
      "Early Phase 1       128\n",
      "Name: phase, dtype: int64\n",
      "phase\n",
      "Phase 2            2095\n",
      "Phase 1            1731\n",
      "Phase 4            1641\n",
      "Phase 3            1427\n",
      "Phase 1/Phase 2     513\n",
      "Phase 2/Phase 3     253\n",
      "Early Phase 1       143\n",
      "Name: phase, dtype: int64\n",
      "phase\n",
      "Phase 2            2284\n",
      "Phase 1            1751\n",
      "Phase 4            1541\n",
      "Phase 3            1400\n",
      "Phase 1/Phase 2     527\n",
      "Phase 2/Phase 3     289\n",
      "Early Phase 1       157\n",
      "Name: phase, dtype: int64\n",
      "phase\n",
      "Phase 2            1505\n",
      "Phase 1            1100\n",
      "Phase 4             973\n",
      "Phase 3             803\n",
      "Phase 1/Phase 2     350\n",
      "Early Phase 1       181\n",
      "Phase 2/Phase 3     174\n",
      "Name: phase, dtype: int64\n"
     ]
    }
   ],
   "source": [
    "drugtrials[drugtrials.Schizophrenia].phase.value_counts()\n",
    "\n",
    "a=trials.phase.value_counts()\n",
    "for year in range (2008, 2018) :\n",
    "    print (a[year])"
   ]
  }
 ],
 "metadata": {
  "kernelspec": {
   "display_name": "Python 3",
   "language": "python",
   "name": "python3"
  },
  "language_info": {
   "codemirror_mode": {
    "name": "ipython",
    "version": 3
   },
   "file_extension": ".py",
   "mimetype": "text/x-python",
   "name": "python",
   "nbconvert_exporter": "python",
   "pygments_lexer": "ipython3",
   "version": "3.6.2"
  }
 },
 "nbformat": 4,
 "nbformat_minor": 2
}
